{
 "cells": [
  {
   "cell_type": "code",
   "execution_count": 11,
   "id": "e2bfe87a-d9d1-450d-876e-7a10893336f9",
   "metadata": {},
   "outputs": [],
   "source": [
    "from PIL import Image, ImageSequence\n",
    "import numpy as np\n"
   ]
  },
  {
   "cell_type": "code",
   "execution_count": 15,
   "id": "5a8f3a5f-53a1-425b-acfa-cf5ea9a2dbbf",
   "metadata": {},
   "outputs": [],
   "source": [
    "im = Image.open(\"DeanVotex.gif\")\n",
    "\n",
    "frames = []\n",
    "# Each frame can have its own palette in a GIF, so we need to store\n",
    "# them individually\n",
    "fpalettes = []\n",
    "#transparency = im.info['transparency']\n",
    "\n",
    "for frame in ImageSequence.Iterator(im):\n",
    "    frames.append(np.array(frame))\n",
    "    fpalettes.append(frame.getpalette())\n",
    "\n",
    "# ... Do something with the frames\n",
    "\n",
    "images = []\n",
    "\n",
    "for i, frame in enumerate(frames[:20]):\n",
    "    im = Image.fromarray(frame)\n",
    "    im.putpalette(fpalettes[i])\n",
    "    images.append(im)\n",
    "\n",
    "images[0].save(\n",
    "        \"output.gif\",\n",
    "        format=\"GIF\",\n",
    "        save_all=True,\n",
    "        loop=0,\n",
    "        append_images=images,\n",
    "        duration=170,\n",
    "        disposal=3,\n",
    "        background = 0,\n",
    "    optimize = True\n",
    "\n",
    ")"
   ]
  },
  {
   "cell_type": "code",
   "execution_count": null,
   "id": "f82be497-1812-4447-b584-361737b68c4f",
   "metadata": {},
   "outputs": [],
   "source": []
  }
 ],
 "metadata": {
  "kernelspec": {
   "display_name": "Python 3 (ipykernel)",
   "language": "python",
   "name": "python3"
  },
  "language_info": {
   "codemirror_mode": {
    "name": "ipython",
    "version": 3
   },
   "file_extension": ".py",
   "mimetype": "text/x-python",
   "name": "python",
   "nbconvert_exporter": "python",
   "pygments_lexer": "ipython3",
   "version": "3.9.6"
  }
 },
 "nbformat": 4,
 "nbformat_minor": 5
}
